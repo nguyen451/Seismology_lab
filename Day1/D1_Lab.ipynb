{
  "cells": [
    {
      "cell_type": "markdown",
      "metadata": {
        "id": "o1ndIdXY-Tsr"
      },
      "source": [
        "# Plotting Maps: Seismograph and Seismicity in Vietnam\n",
        "\n",
        "[![Open In Colab](https://img.shields.io/badge/open%20in-Colab-b5e2fa?logo=googlecolab&style=flat-square&color=ffd670)](https://colab.research.google.com/github/tsonpham/ObsSeisHUS2025/blob/master/Day1/D1_Lab.ipynb)\n",
        "\n",
        "Prepared by Thanh-Son Pham (thanhson.pham@anu.edu.au), April 2025."
      ]
    },
    {
      "cell_type": "markdown",
      "metadata": {
        "id": "pvfSjiDL-Tst"
      },
      "source": [
        "---\n",
        "## What we do in this notebook:\n",
        "- Learn Jupyter notebook and google colab server\n",
        "- Plot geographical maps and geoscientific data\n",
        "- Download station/earthquake metadata from remote servers\n",
        "\n",
        "The next cell installs some library packages will be used in this notebook. It must be run on Google Colab to set up the working environment in the remote server (nothing will be installed on your computer)."
      ]
    },
    {
      "cell_type": "code",
      "execution_count": 1,
      "metadata": {
        "colab": {
          "base_uri": "https://localhost:8080/"
        },
        "id": "q1p2iTul_FPU",
        "outputId": "76298947-fe45-4364-ff07-3df9ef66fedd"
      },
      "outputs": [
        {
          "output_type": "stream",
          "name": "stdout",
          "text": [
            "Requirement already satisfied: basemap in /usr/local/lib/python3.11/dist-packages (1.4.1)\n",
            "Requirement already satisfied: obspy in /usr/local/lib/python3.11/dist-packages (1.4.1)\n",
            "Requirement already satisfied: basemap-data-hires in /usr/local/lib/python3.11/dist-packages (1.3.2)\n",
            "Requirement already satisfied: cartopy in /usr/local/lib/python3.11/dist-packages (0.24.1)\n",
            "Requirement already satisfied: basemap-data<1.4,>=1.3.2 in /usr/local/lib/python3.11/dist-packages (from basemap) (1.3.2)\n",
            "Requirement already satisfied: pyshp<2.4,>=1.2 in /usr/local/lib/python3.11/dist-packages (from basemap) (2.3.1)\n",
            "Requirement already satisfied: matplotlib<3.9,>=1.5 in /usr/local/lib/python3.11/dist-packages (from basemap) (3.8.4)\n",
            "Requirement already satisfied: pyproj<3.7.0,>=1.9.3 in /usr/local/lib/python3.11/dist-packages (from basemap) (3.6.1)\n",
            "Requirement already satisfied: packaging<24.0,>=16.0 in /usr/local/lib/python3.11/dist-packages (from basemap) (23.2)\n",
            "Requirement already satisfied: numpy<1.27,>=1.21 in /usr/local/lib/python3.11/dist-packages (from basemap) (1.26.4)\n",
            "Requirement already satisfied: scipy>=1.7 in /usr/local/lib/python3.11/dist-packages (from obspy) (1.14.1)\n",
            "Requirement already satisfied: lxml in /usr/local/lib/python3.11/dist-packages (from obspy) (5.3.2)\n",
            "Requirement already satisfied: setuptools in /usr/local/lib/python3.11/dist-packages (from obspy) (75.2.0)\n",
            "Requirement already satisfied: sqlalchemy<2 in /usr/local/lib/python3.11/dist-packages (from obspy) (1.4.54)\n",
            "Requirement already satisfied: decorator in /usr/local/lib/python3.11/dist-packages (from obspy) (4.4.2)\n",
            "Requirement already satisfied: requests in /usr/local/lib/python3.11/dist-packages (from obspy) (2.32.3)\n",
            "Requirement already satisfied: shapely>=1.8 in /usr/local/lib/python3.11/dist-packages (from cartopy) (2.1.0)\n",
            "Requirement already satisfied: contourpy>=1.0.1 in /usr/local/lib/python3.11/dist-packages (from matplotlib<3.9,>=1.5->basemap) (1.3.2)\n",
            "Requirement already satisfied: cycler>=0.10 in /usr/local/lib/python3.11/dist-packages (from matplotlib<3.9,>=1.5->basemap) (0.12.1)\n",
            "Requirement already satisfied: fonttools>=4.22.0 in /usr/local/lib/python3.11/dist-packages (from matplotlib<3.9,>=1.5->basemap) (4.57.0)\n",
            "Requirement already satisfied: kiwisolver>=1.3.1 in /usr/local/lib/python3.11/dist-packages (from matplotlib<3.9,>=1.5->basemap) (1.4.8)\n",
            "Requirement already satisfied: pillow>=8 in /usr/local/lib/python3.11/dist-packages (from matplotlib<3.9,>=1.5->basemap) (11.1.0)\n",
            "Requirement already satisfied: pyparsing>=2.3.1 in /usr/local/lib/python3.11/dist-packages (from matplotlib<3.9,>=1.5->basemap) (3.2.3)\n",
            "Requirement already satisfied: python-dateutil>=2.7 in /usr/local/lib/python3.11/dist-packages (from matplotlib<3.9,>=1.5->basemap) (2.8.2)\n",
            "Requirement already satisfied: certifi in /usr/local/lib/python3.11/dist-packages (from pyproj<3.7.0,>=1.9.3->basemap) (2025.1.31)\n",
            "Requirement already satisfied: greenlet!=0.4.17 in /usr/local/lib/python3.11/dist-packages (from sqlalchemy<2->obspy) (3.2.0)\n",
            "Requirement already satisfied: charset-normalizer<4,>=2 in /usr/local/lib/python3.11/dist-packages (from requests->obspy) (3.4.1)\n",
            "Requirement already satisfied: idna<4,>=2.5 in /usr/local/lib/python3.11/dist-packages (from requests->obspy) (3.10)\n",
            "Requirement already satisfied: urllib3<3,>=1.21.1 in /usr/local/lib/python3.11/dist-packages (from requests->obspy) (2.3.0)\n",
            "Requirement already satisfied: six>=1.5 in /usr/local/lib/python3.11/dist-packages (from python-dateutil>=2.7->matplotlib<3.9,>=1.5->basemap) (1.17.0)\n"
          ]
        }
      ],
      "source": [
        "# set up colab environment - uncomment the next line if running in colab\n",
        "\n",
        "!pip install basemap obspy basemap-data-hires cartopy"
      ]
    },
    {
      "cell_type": "code",
      "execution_count": null,
      "metadata": {
        "id": "b44qqc92Xeaf"
      },
      "outputs": [],
      "source": [
        "#@title Run to activate retina display\n",
        "\n",
        "%config InlineBackend.figure_format = \"retina\"\n",
        "from matplotlib import rcParams\n",
        "\n",
        "rcParams[\"savefig.dpi\"] = 100\n",
        "rcParams[\"figure.dpi\"] = 100\n",
        "rcParams[\"font.size\"] = 10"
      ]
    },
    {
      "cell_type": "markdown",
      "metadata": {
        "id": "PJzyKBXfXeaf"
      },
      "source": [
        "---\n",
        "## Plot a base map using `Basemap` package\n",
        "\n",
        "In the following cell, we plot a map of Vietnam in the `Mercator` projection. A complete list of projections supported in `basemap` is [here](https://matplotlib.org/basemap/stable/users/mapsetup.html)."
      ]
    },
    {
      "cell_type": "code",
      "execution_count": null,
      "metadata": {
        "id": "JCFuiY0p-Tsu"
      },
      "outputs": [],
      "source": [
        "from mpl_toolkits.basemap import Basemap\n",
        "import matplotlib.pyplot as plt\n",
        "\n",
        "# Create a new figure and axis object\n",
        "fig, ax = plt.subplots()\n",
        "\n",
        "# Initialize the basemap, specifing the projection, the gegraphic buondary, and resolution\n",
        "# the initialzed map instance is attached to the axis ax\n",
        "\n",
        "# ll: lower left, ur: upper right and so on\n",
        "m = Basemap(projection='merc',ax=ax, llcrnrlat=7.7, urcrnrlat=24, llcrnrlon=101, urcrnrlon=112, resolution='i')\n",
        "\n",
        "# Draw coastlines\n",
        "m.drawcoastlines(linewidth=1)\n",
        "# Draw country boundaries\n",
        "m.drawcountries(linewidth=1)\n",
        "# Draw rivers\n",
        "m.drawrivers(linewidth=1, color='blue')\n",
        "\n",
        "# Draw parallels and meridians\n",
        "m.drawparallels(range(10, 25, 5), labels=[1,1,0,0])\n",
        "m.drawmeridians(range(100, 125, 4), labels=[0,0,1,1])\n",
        "\n",
        "# Draw etopo relief as map background (note: the data is hard-coded in the basemap module)\n",
        "m.etopo()\n",
        "\n",
        "# stretch out the axis to fit the figure space\n",
        "fig.tight_layout()\n",
        "plt.show()"
      ]
    },
    {
      "cell_type": "markdown",
      "metadata": {
        "id": "sQ88l1em-Tsw"
      },
      "source": [
        "Congratulations on your first map!\n",
        "\n",
        "Learn more about map background [here](https://matplotlib.org/basemap/stable/users/geography.html)\n",
        "\n",
        "You can try different backgrounds such as\n",
        "\n",
        "    drawlsmask(): draw a high-resolution land-sea mask as an image, with land and ocean colors specified. The land-sea mask is derived from the GSHHS coastline data, and there are several coastline options and pixel sizes to choose from.\n",
        "\n",
        "    bluemarble(): draw a NASA Blue Marble image as a map background.\n",
        "\n",
        "    shadedrelief(): draw a shaded relief image as a map background.\n",
        "\n",
        "    etopo(): draw an etopo relief image as map background.\n",
        "\n",
        "    warpimage(): use an abitrary image as a map background. The image must be global, covering the world in lat/lon coordinates from the international dateline eastward and the South Pole northward."
      ]
    },
    {
      "cell_type": "markdown",
      "metadata": {
        "id": "Pn-nVQTw-Tsw"
      },
      "source": [
        "---\n",
        "## Download metadata from remote data centers\n",
        "\n",
        "Now, we will retrieve some seismic metadata remotely and plot over the basemap. For the demonstration purposes, we will plot available seismic stations and cataloged earthquakes in and around Vietnam.\n",
        "\n",
        "In the next cell, we will use a programming Python interface to retrieve for metadata from remote servers and plot the data on the map. Exact same data can be downloaded from the servers' web interface. I prefer the programming interface thanks to its inclusiveness and conveniences. Some popular seismological data centres include\n",
        "- IRIS Station metadata search: https://ds.iris.edu/mda/\n",
        "- IRIS Data management center: https://ds.iris.edu/wilber3/find_event\n",
        "- Global Centroid-Moment Tensor: https://www.globalcmt.org/\n",
        "- International Seismological Centre: https://www.isc.ac.uk/iscbulletin/search/\n",
        "- US Geophiscal Survey: https://earthquake.usgs.gov/earthquakes/map/\n",
        "\n",
        "We will also use several objects defined in the `ObsPy` package (further reading [here](https://docs.obspy.org/)). ObsPy is perhaps the most popular Python package for observational seismology. It has rich function libararies for many seismological analyses."
      ]
    },
    {
      "cell_type": "code",
      "execution_count": null,
      "metadata": {
        "id": "plLIhnZg-Tsw"
      },
      "outputs": [],
      "source": [
        "# initialize a local client object to iris with IRIS remote data center\n",
        "# internet connection is required for communication\n",
        "from obspy.clients.fdsn import Client\n",
        "client = Client(\"IRIS\")\n",
        "\n",
        "# define a regional box latitude 7.7 to 24, longitude 101 to 110.5\n",
        "minlatitude = 7.7\n",
        "maxlatitude = 24\n",
        "minlongitude = 101\n",
        "maxlongitude = 110.5\n",
        "# define the time period of interest\n",
        "from obspy import UTCDateTime\n",
        "startime = UTCDateTime(\"2000-01-01\")\n",
        "endtime = UTCDateTime(\"2025-01-01\")\n",
        "# query for seismic stations available in the box and during the time period\n",
        "\n",
        "# channel : each channel has it own level of resolution and độ nhạy với các loại sóng riêng\n",
        "# level: ở đây là lấy dữ liệu đến level nào, nếu sửa channel thành sation thì sẽ ko lấy về dữ liệu của các channel nữa mà chỉ dừng lại ở station thôi\n",
        "inventory = client.get_stations(minlatitude=minlatitude, maxlatitude=maxlatitude,\n",
        "                                minlongitude=minlongitude, maxlongitude=maxlongitude,\n",
        "                                starttime=startime, endtime=endtime, channel=\"LH*\", level=\"channel\")\n",
        "\n",
        "# The first way to inspect the content of the inventory object is to print it\n",
        "print (inventory)\n",
        "# The second way is to use the plot method of the inventory object using its built-in plot method\n",
        "inventory.plot(projection='local', size=30)\n",
        "plt.show()\n",
        "# Later we will use the inventory object to plot the station locations on our custom map"
      ]
    },
    {
      "cell_type": "markdown",
      "metadata": {
        "id": "RTKxWsdbXeai"
      },
      "source": [
        "This graphy below visualizes the hierarchy of the Inventory class. The design is to handle station metadata consistently.\n",
        "![Inventory hierarchy](https://docs.obspy.org/_images/Inventory.png)"
      ]
    },
    {
      "cell_type": "code",
      "execution_count": null,
      "metadata": {
        "id": "k5gGJKqBXeai"
      },
      "outputs": [],
      "source": [
        "# We can also query for seismic events in the same box and during the same time period\n",
        "# The events are stored in a catalog object\n",
        "# The catalog object is a list of events, each event is an Event object\n",
        "# The catalog object has a method to plot the events on a map\n",
        "isc = Client('ISC')\n",
        "catalog = isc.get_events(minlatitude=minlatitude, maxlatitude=maxlatitude,\n",
        "                            minlongitude=minlongitude, maxlongitude=maxlongitude,\n",
        "                            starttime=startime, endtime=endtime,\n",
        "                            # we request events with magnitude greater than 2\n",
        "                            minmagnitude=0)\n",
        "print (catalog)\n",
        "catalog.plot(projection='ortho')\n",
        "plt.show()"
      ]
    },
    {
      "cell_type": "markdown",
      "metadata": {
        "id": "Se1zaOhEXeaj"
      },
      "source": [
        "Similarly, the graph below show the hierarchy of the `Catalog` class.\n",
        "![Catalog hierarchy](https://docs.obspy.org/_images/Event.png)"
      ]
    },
    {
      "cell_type": "markdown",
      "metadata": {
        "id": "K61mVWsxXeaj"
      },
      "source": [
        "---\n",
        "## Plot stations and earthquakes on the custom map\n",
        "\n",
        "The built-in maps above are busy and we also do not have the flexivity to control the plotting output. That's why we need to work on our own map to analyse data in the way we want."
      ]
    },
    {
      "cell_type": "code",
      "execution_count": null,
      "metadata": {
        "id": "y4XEmkuc-Tsw"
      },
      "outputs": [],
      "source": [
        "import numpy as np\n",
        "\n",
        "## We follow the same procedure as above to create the map background.\n",
        "fig, ax = plt.subplots()\n",
        "# initialize the basemap, specifing the projection, the gegraphic buondary, and resolution\n",
        "# the initialzed map instance is attached to the axis ax\n",
        "m = Basemap(projection='merc',ax=ax, llcrnrlat=7.7, urcrnrlat=24,\n",
        "            llcrnrlon=101, urcrnrlon=112, resolution='i')\n",
        "# draw coastlines\n",
        "m.drawcoastlines(linewidth=1)\n",
        "# draw country boundaries\n",
        "m.drawcountries(linewidth=1)\n",
        "# draw parallels and meridians\n",
        "m.drawparallels(range(10, 25, 5), labels=[1,0,0,0])\n",
        "m.drawmeridians(range(100, 125, 4), labels=[0,0,0,1])\n",
        "\n",
        "\n",
        "# Here we plot seismic events as circles on the map.\n",
        "# The size of the circle is proportional to the magnitude of the event\n",
        "# The color of the circle is proportional to the time of the event.\n",
        "evla = np.array([e.origins[0].latitude for e in catalog])\n",
        "evlo = np.array([e.origins[0].longitude for e in catalog])\n",
        "evmag = np.array([e.magnitudes[0].mag for e in catalog])\n",
        "evyear = np.array([e.origins[0].time.year for e in catalog])\n",
        "# latlon=True means that the coordinates are in latitude and longitude\n",
        "mappable = m.scatter(evlo, evla, c=evyear, cmap='copper', latlon=True, s=np.exp(evmag)/2)\n",
        "\n",
        "# Plot the station locations as triangles on the map.\n",
        "# We use text to label the stations with their codes.\n",
        "for net in inventory:\n",
        "    for sta in net:\n",
        "        lon = sta.longitude\n",
        "        lat = sta.latitude\n",
        "        # the coordinates are converted to map coordinates using the basemap instance\n",
        "        x, y = m(lon, lat)\n",
        "        # plot the station location using projected coodindates when latlon=False by default\n",
        "        m.plot(x, y, marker='v', color='none', ms=7, mec='b', mew=1.5)\n",
        "        # station lable\n",
        "        plt.text(x, y+3e4, sta.code, fontsize=10, ha='center', fontweight='bold', color='blue')\n",
        "\n",
        "# add a colorbar to the map representing the time evolution of the events\n",
        "bar = fig.colorbar(mappable, ax=ax, label='Year')\n",
        "\n",
        "# add a title to the map\n",
        "ax.set_title('Vietnam seismicity')\n",
        "\n",
        "# stretch out the axis to fir the figure space\n",
        "fig.tight_layout()\n",
        "plt.show()"
      ]
    },
    {
      "cell_type": "markdown",
      "metadata": {
        "id": "nweT-UjOEvvf"
      },
      "source": [
        "---\n",
        "## Kon Tum 2024 earthquake sequences\n",
        "\n",
        "We now focus on the 2024 Kon Tum earthquake sequences to observe its time sequence and correlation with dam charging activities. It is thought that the event sequence, including the largest one occuring on 28/07/2024, is triggered on a pre-existing fault when the stress field is influenced by the water filling activity.\n",
        "\n",
        "Credit: the creation of the following code example is inspired by the original analysis from Hubbard, J. and Bradley, K., 2024. *M5.1 earthquake in Vietnam is largest in country since 2007.* Earthquake Insights, https://doi.org/10.62481/49662587."
      ]
    },
    {
      "cell_type": "code",
      "execution_count": null,
      "metadata": {
        "id": "GQnYGLgiEu-g"
      },
      "outputs": [],
      "source": [
        "import matplotlib.dates as mdates\n",
        "from datetime import datetime\n",
        "\n",
        "# Select event near the Kon Tum province region\n",
        "cat = catalog.filter(\"latitude < 16.\", \"latitude > 14.\", \"longitude > 107\", \"longitude < 109\")\n",
        "\n",
        "# Collect the event time, magnitude, latitude and longitude from the filtered catalog\n",
        "evtime = [e.origins[0].time.datetime for e in cat]\n",
        "evmag = [e.magnitudes[0].mag for e in cat]\n",
        "evlat = [e.origins[0].latitude for e in cat]\n",
        "evlon = [e.origins[0].longitude for e in cat]\n",
        "\n",
        "# Prepare figure with multiple components\n",
        "fig, ax  = plt.subplots(2, 2, figsize=(7, 5), width_ratios=(1, 1.9))\n",
        "\n",
        "# Create a new map instance in one of the figure panel\n",
        "m = Basemap(projection='merc', ax=ax[0, 0], llcrnrlat=14.25, urcrnrlat=16.25,\n",
        "            llcrnrlon=107, urcrnrlon=109, resolution='i')\n",
        "m.drawparallels(np.arange(14, 16.5, .5), labels=[1,0,0,0])\n",
        "m.drawmeridians(np.arange(107.2, 109, .8), labels=[0,0,0,1])\n",
        "m.drawcoastlines(linewidth=1, color='k')\n",
        "m.shadedrelief(scale=2)\n",
        "# plot events as circles on the map in the top-left panel\n",
        "m.plot(evlo, evla, 'ro', markersize=5, latlon=True)\n",
        "\n",
        "# plot event latitude as function of time in the top-right panel\n",
        "ax[0, 1].plot(evtime, evlat, 'o')\n",
        "ax[0, 1].set(yticks=np.arange(14, 16.5, .5), yticklabels=[], ylim=(14.25, 16.25))\n",
        "ax[0, 1].axvline(datetime(2021, 3, 24), color='red', linestyle='--', label='March 24, 2021')\n",
        "ax[0, 1].grid(ls=':', color='k')\n",
        "\n",
        "# plot event longitude as function of time in the bottom-left panel\n",
        "ax[1, 1].plot(evtime, evmag, 'o')\n",
        "ax[1, 1].axvline(datetime(2021, 3, 24), color='red', linestyle='--', label='March 24, 2021')\n",
        "ax[1, 1].grid(ls=':', color='k')\n",
        "\n",
        "# hide the bottom-right panel\n",
        "ax[1, 0].set(frame_on=False, xticks=[], yticks=[])\n",
        "\n",
        "# get info of the 2024/07/28 event\n",
        "e24 = cat[np.argmax(evmag)]\n",
        "ax[0, 1].annotate('2021/03/24\\ndam completion date', xy=(datetime(2021, 3, 24), 16),\n",
        "                 xytext=(datetime(2019, 3, 24), 16),\n",
        "                 arrowprops=dict(arrowstyle='->', lw=1.5, color='red'),\n",
        "                 fontsize=8, ha='right', fontweight='bold', color='red')\n",
        "\n",
        "ax[1, 1].annotate('2024/07/28 M5.2', xy=(e24.origins[0].time.datetime, e24.magnitudes[0].mag),\n",
        "                 xytext=(datetime(2020, 3, 24), 4.5),\n",
        "                 arrowprops=dict(arrowstyle='->', lw=1.5, color='red'),\n",
        "                 fontsize=8, ha='right', fontweight='bold', color='red')\n",
        "\n",
        "fig.tight_layout()\n",
        "plt.show()"
      ]
    },
    {
      "cell_type": "markdown",
      "metadata": {
        "id": "9R89QVVgXeak"
      },
      "source": [
        "---\n",
        "## Suggestion for more activity\n",
        "If you have completed all excersises and still feeling unstatisfied, why not trying to analyze the Southern East Sea (near Vung Tau) event cluster and make your own educated guess about the origin of the events?"
      ]
    },
    {
      "cell_type": "markdown",
      "metadata": {
        "id": "HmaKJRI1Xeak"
      },
      "source": [
        "---\n",
        "## Remarks\n",
        "\n",
        "- We have demonstrated some common practices in geographical mapping, metadata requesting.\n",
        "\n",
        "- These have also shown brief ideas of cloud computing, where data and computational resources located on remote machines."
      ]
    }
  ],
  "metadata": {
    "colab": {
      "provenance": []
    },
    "kernelspec": {
      "display_name": "emcee",
      "language": "python",
      "name": "python3"
    },
    "language_info": {
      "codemirror_mode": {
        "name": "ipython",
        "version": 3
      },
      "file_extension": ".py",
      "mimetype": "text/x-python",
      "name": "python",
      "nbconvert_exporter": "python",
      "pygments_lexer": "ipython3",
      "version": "3.11.7"
    }
  },
  "nbformat": 4,
  "nbformat_minor": 0
}
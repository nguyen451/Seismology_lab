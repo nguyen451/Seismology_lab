{
  "cells": [
    {
      "cell_type": "markdown",
      "metadata": {
        "id": "rze_pEwkFjKU"
      },
      "source": [
        "# Exploring seismic stations in Antarctica\n",
        "\n",
        "[![Open In Colab](https://img.shields.io/badge/open%20in-Colab-b5e2fa?logo=googlecolab&style=flat-square&color=ffd670)](https://colab.research.google.com/github/tsonpham/ObsSeisHUS2025/blob/master/Day1/D1_Prac.ipynb)\n",
        "\n",
        "Prepared by Thanh-Son Pham (thanhson.pham@anu.edu.au), April 2025."
      ]
    },
    {
      "cell_type": "markdown",
      "metadata": {
        "id": "w0zOwXXcjaaL"
      },
      "source": [
        "---\n",
        "## What we do in this notebook:\n",
        "- Learn Jupyter notebook and google colab server\n",
        "- Plot geographical maps and geoscientific data\n",
        "- Download station/earthquake metadata from remote servers\n",
        "\n",
        "Similar to the in-class excercise, here we practise the mapping skils by exploring the network of passive seismometers in Antarctica."
      ]
    },
    {
      "cell_type": "code",
      "execution_count": 1,
      "metadata": {
        "colab": {
          "base_uri": "https://localhost:8080/",
          "height": 1000
        },
        "id": "1pebMM-njaaN",
        "outputId": "8b89899d-24a8-46a9-eafd-9dbd7f9aac4f"
      },
      "outputs": [
        {
          "output_type": "stream",
          "name": "stdout",
          "text": [
            "Collecting basemap\n",
            "  Downloading basemap-1.4.1-cp311-cp311-manylinux1_x86_64.whl.metadata (9.1 kB)\n",
            "Collecting obspy\n",
            "  Downloading obspy-1.4.1-cp311-cp311-manylinux_2_17_x86_64.manylinux2014_x86_64.whl.metadata (3.7 kB)\n",
            "Collecting basemap-data-hires\n",
            "  Downloading basemap_data_hires-1.3.2-py2.py3-none-any.whl.metadata (2.3 kB)\n",
            "Collecting rasterio\n",
            "  Downloading rasterio-1.4.3-cp311-cp311-manylinux_2_17_x86_64.manylinux2014_x86_64.whl.metadata (9.1 kB)\n",
            "Requirement already satisfied: gdown in /usr/local/lib/python3.11/dist-packages (5.2.0)\n",
            "Collecting basemap-data<1.4,>=1.3.2 (from basemap)\n",
            "  Downloading basemap_data-1.3.2-py2.py3-none-any.whl.metadata (2.7 kB)\n",
            "Requirement already satisfied: pyshp<2.4,>=1.2 in /usr/local/lib/python3.11/dist-packages (from basemap) (2.3.1)\n",
            "Collecting matplotlib<3.9,>=1.5 (from basemap)\n",
            "  Downloading matplotlib-3.8.4-cp311-cp311-manylinux_2_17_x86_64.manylinux2014_x86_64.whl.metadata (5.8 kB)\n",
            "Collecting pyproj<3.7.0,>=1.9.3 (from basemap)\n",
            "  Downloading pyproj-3.6.1-cp311-cp311-manylinux_2_17_x86_64.manylinux2014_x86_64.whl.metadata (31 kB)\n",
            "Collecting packaging<24.0,>=16.0 (from basemap)\n",
            "  Downloading packaging-23.2-py3-none-any.whl.metadata (3.2 kB)\n",
            "Collecting numpy<1.27,>=1.21 (from basemap)\n",
            "  Downloading numpy-1.26.4-cp311-cp311-manylinux_2_17_x86_64.manylinux2014_x86_64.whl.metadata (61 kB)\n",
            "\u001b[2K     \u001b[90m━━━━━━━━━━━━━━━━━━━━━━━━━━━━━━━━━━━━━━━\u001b[0m \u001b[32m61.0/61.0 kB\u001b[0m \u001b[31m569.7 kB/s\u001b[0m eta \u001b[36m0:00:00\u001b[0m\n",
            "\u001b[?25hRequirement already satisfied: scipy>=1.7 in /usr/local/lib/python3.11/dist-packages (from obspy) (1.14.1)\n",
            "Requirement already satisfied: lxml in /usr/local/lib/python3.11/dist-packages (from obspy) (5.3.2)\n",
            "Requirement already satisfied: setuptools in /usr/local/lib/python3.11/dist-packages (from obspy) (75.2.0)\n",
            "Collecting sqlalchemy<2 (from obspy)\n",
            "  Downloading SQLAlchemy-1.4.54-cp311-cp311-manylinux_2_5_x86_64.manylinux1_x86_64.manylinux_2_17_x86_64.manylinux2014_x86_64.whl.metadata (10 kB)\n",
            "Requirement already satisfied: decorator in /usr/local/lib/python3.11/dist-packages (from obspy) (4.4.2)\n",
            "Requirement already satisfied: requests in /usr/local/lib/python3.11/dist-packages (from obspy) (2.32.3)\n",
            "Collecting affine (from rasterio)\n",
            "  Downloading affine-2.4.0-py3-none-any.whl.metadata (4.0 kB)\n",
            "Requirement already satisfied: attrs in /usr/local/lib/python3.11/dist-packages (from rasterio) (25.3.0)\n",
            "Requirement already satisfied: certifi in /usr/local/lib/python3.11/dist-packages (from rasterio) (2025.1.31)\n",
            "Requirement already satisfied: click>=4.0 in /usr/local/lib/python3.11/dist-packages (from rasterio) (8.1.8)\n",
            "Collecting cligj>=0.5 (from rasterio)\n",
            "  Downloading cligj-0.7.2-py3-none-any.whl.metadata (5.0 kB)\n",
            "Collecting click-plugins (from rasterio)\n",
            "  Downloading click_plugins-1.1.1-py2.py3-none-any.whl.metadata (6.4 kB)\n",
            "Requirement already satisfied: pyparsing in /usr/local/lib/python3.11/dist-packages (from rasterio) (3.2.3)\n",
            "Requirement already satisfied: beautifulsoup4 in /usr/local/lib/python3.11/dist-packages (from gdown) (4.13.4)\n",
            "Requirement already satisfied: filelock in /usr/local/lib/python3.11/dist-packages (from gdown) (3.18.0)\n",
            "Requirement already satisfied: tqdm in /usr/local/lib/python3.11/dist-packages (from gdown) (4.67.1)\n",
            "Requirement already satisfied: contourpy>=1.0.1 in /usr/local/lib/python3.11/dist-packages (from matplotlib<3.9,>=1.5->basemap) (1.3.2)\n",
            "Requirement already satisfied: cycler>=0.10 in /usr/local/lib/python3.11/dist-packages (from matplotlib<3.9,>=1.5->basemap) (0.12.1)\n",
            "Requirement already satisfied: fonttools>=4.22.0 in /usr/local/lib/python3.11/dist-packages (from matplotlib<3.9,>=1.5->basemap) (4.57.0)\n",
            "Requirement already satisfied: kiwisolver>=1.3.1 in /usr/local/lib/python3.11/dist-packages (from matplotlib<3.9,>=1.5->basemap) (1.4.8)\n",
            "Requirement already satisfied: pillow>=8 in /usr/local/lib/python3.11/dist-packages (from matplotlib<3.9,>=1.5->basemap) (11.1.0)\n",
            "Requirement already satisfied: python-dateutil>=2.7 in /usr/local/lib/python3.11/dist-packages (from matplotlib<3.9,>=1.5->basemap) (2.8.2)\n",
            "Requirement already satisfied: greenlet!=0.4.17 in /usr/local/lib/python3.11/dist-packages (from sqlalchemy<2->obspy) (3.2.0)\n",
            "Requirement already satisfied: soupsieve>1.2 in /usr/local/lib/python3.11/dist-packages (from beautifulsoup4->gdown) (2.6)\n",
            "Requirement already satisfied: typing-extensions>=4.0.0 in /usr/local/lib/python3.11/dist-packages (from beautifulsoup4->gdown) (4.13.2)\n",
            "Requirement already satisfied: charset-normalizer<4,>=2 in /usr/local/lib/python3.11/dist-packages (from requests->obspy) (3.4.1)\n",
            "Requirement already satisfied: idna<4,>=2.5 in /usr/local/lib/python3.11/dist-packages (from requests->obspy) (3.10)\n",
            "Requirement already satisfied: urllib3<3,>=1.21.1 in /usr/local/lib/python3.11/dist-packages (from requests->obspy) (2.3.0)\n",
            "Requirement already satisfied: PySocks!=1.5.7,>=1.5.6 in /usr/local/lib/python3.11/dist-packages (from requests[socks]->gdown) (1.7.1)\n",
            "Requirement already satisfied: six>=1.5 in /usr/local/lib/python3.11/dist-packages (from python-dateutil>=2.7->matplotlib<3.9,>=1.5->basemap) (1.17.0)\n",
            "Downloading basemap-1.4.1-cp311-cp311-manylinux1_x86_64.whl (942 kB)\n",
            "\u001b[2K   \u001b[90m━━━━━━━━━━━━━━━━━━━━━━━━━━━━━━━━━━━━━━━━\u001b[0m \u001b[32m942.4/942.4 kB\u001b[0m \u001b[31m16.7 MB/s\u001b[0m eta \u001b[36m0:00:00\u001b[0m\n",
            "\u001b[?25hDownloading obspy-1.4.1-cp311-cp311-manylinux_2_17_x86_64.manylinux2014_x86_64.whl (14.5 MB)\n",
            "\u001b[2K   \u001b[90m━━━━━━━━━━━━━━━━━━━━━━━━━━━━━━━━━━━━━━━━\u001b[0m \u001b[32m14.5/14.5 MB\u001b[0m \u001b[31m72.9 MB/s\u001b[0m eta \u001b[36m0:00:00\u001b[0m\n",
            "\u001b[?25hDownloading basemap_data_hires-1.3.2-py2.py3-none-any.whl (91.1 MB)\n",
            "\u001b[2K   \u001b[90m━━━━━━━━━━━━━━━━━━━━━━━━━━━━━━━━━━━━━━━━\u001b[0m \u001b[32m91.1/91.1 MB\u001b[0m \u001b[31m10.1 MB/s\u001b[0m eta \u001b[36m0:00:00\u001b[0m\n",
            "\u001b[?25hDownloading rasterio-1.4.3-cp311-cp311-manylinux_2_17_x86_64.manylinux2014_x86_64.whl (22.2 MB)\n",
            "\u001b[2K   \u001b[90m━━━━━━━━━━━━━━━━━━━━━━━━━━━━━━━━━━━━━━━━\u001b[0m \u001b[32m22.2/22.2 MB\u001b[0m \u001b[31m43.2 MB/s\u001b[0m eta \u001b[36m0:00:00\u001b[0m\n",
            "\u001b[?25hDownloading basemap_data-1.3.2-py2.py3-none-any.whl (30.5 MB)\n",
            "\u001b[2K   \u001b[90m━━━━━━━━━━━━━━━━━━━━━━━━━━━━━━━━━━━━━━━━\u001b[0m \u001b[32m30.5/30.5 MB\u001b[0m \u001b[31m42.3 MB/s\u001b[0m eta \u001b[36m0:00:00\u001b[0m\n",
            "\u001b[?25hDownloading cligj-0.7.2-py3-none-any.whl (7.1 kB)\n",
            "Downloading matplotlib-3.8.4-cp311-cp311-manylinux_2_17_x86_64.manylinux2014_x86_64.whl (11.6 MB)\n",
            "\u001b[2K   \u001b[90m━━━━━━━━━━━━━━━━━━━━━━━━━━━━━━━━━━━━━━━━\u001b[0m \u001b[32m11.6/11.6 MB\u001b[0m \u001b[31m68.7 MB/s\u001b[0m eta \u001b[36m0:00:00\u001b[0m\n",
            "\u001b[?25hDownloading numpy-1.26.4-cp311-cp311-manylinux_2_17_x86_64.manylinux2014_x86_64.whl (18.3 MB)\n",
            "\u001b[2K   \u001b[90m━━━━━━━━━━━━━━━━━━━━━━━━━━━━━━━━━━━━━━━━\u001b[0m \u001b[32m18.3/18.3 MB\u001b[0m \u001b[31m16.2 MB/s\u001b[0m eta \u001b[36m0:00:00\u001b[0m\n",
            "\u001b[?25hDownloading packaging-23.2-py3-none-any.whl (53 kB)\n",
            "\u001b[2K   \u001b[90m━━━━━━━━━━━━━━━━━━━━━━━━━━━━━━━━━━━━━━━━\u001b[0m \u001b[32m53.0/53.0 kB\u001b[0m \u001b[31m2.0 MB/s\u001b[0m eta \u001b[36m0:00:00\u001b[0m\n",
            "\u001b[?25hDownloading pyproj-3.6.1-cp311-cp311-manylinux_2_17_x86_64.manylinux2014_x86_64.whl (8.6 MB)\n",
            "\u001b[2K   \u001b[90m━━━━━━━━━━━━━━━━━━━━━━━━━━━━━━━━━━━━━━━━\u001b[0m \u001b[32m8.6/8.6 MB\u001b[0m \u001b[31m61.8 MB/s\u001b[0m eta \u001b[36m0:00:00\u001b[0m\n",
            "\u001b[?25hDownloading SQLAlchemy-1.4.54-cp311-cp311-manylinux_2_5_x86_64.manylinux1_x86_64.manylinux_2_17_x86_64.manylinux2014_x86_64.whl (1.6 MB)\n",
            "\u001b[2K   \u001b[90m━━━━━━━━━━━━━━━━━━━━━━━━━━━━━━━━━━━━━━━━\u001b[0m \u001b[32m1.6/1.6 MB\u001b[0m \u001b[31m39.5 MB/s\u001b[0m eta \u001b[36m0:00:00\u001b[0m\n",
            "\u001b[?25hDownloading affine-2.4.0-py3-none-any.whl (15 kB)\n",
            "Downloading click_plugins-1.1.1-py2.py3-none-any.whl (7.5 kB)\n",
            "Installing collected packages: sqlalchemy, pyproj, packaging, numpy, cligj, click-plugins, basemap-data-hires, basemap-data, affine, rasterio, matplotlib, obspy, basemap\n",
            "  Attempting uninstall: sqlalchemy\n",
            "    Found existing installation: SQLAlchemy 2.0.40\n",
            "    Uninstalling SQLAlchemy-2.0.40:\n",
            "      Successfully uninstalled SQLAlchemy-2.0.40\n",
            "  Attempting uninstall: pyproj\n",
            "    Found existing installation: pyproj 3.7.1\n",
            "    Uninstalling pyproj-3.7.1:\n",
            "      Successfully uninstalled pyproj-3.7.1\n",
            "  Attempting uninstall: packaging\n",
            "    Found existing installation: packaging 24.2\n",
            "    Uninstalling packaging-24.2:\n",
            "      Successfully uninstalled packaging-24.2\n",
            "  Attempting uninstall: numpy\n",
            "    Found existing installation: numpy 2.0.2\n",
            "    Uninstalling numpy-2.0.2:\n",
            "      Successfully uninstalled numpy-2.0.2\n",
            "  Attempting uninstall: matplotlib\n",
            "    Found existing installation: matplotlib 3.10.0\n",
            "    Uninstalling matplotlib-3.10.0:\n",
            "      Successfully uninstalled matplotlib-3.10.0\n",
            "\u001b[31mERROR: pip's dependency resolver does not currently take into account all the packages that are installed. This behaviour is the source of the following dependency conflicts.\n",
            "thinc 8.3.6 requires numpy<3.0.0,>=2.0.0, but you have numpy 1.26.4 which is incompatible.\n",
            "google-cloud-bigquery 3.31.0 requires packaging>=24.2.0, but you have packaging 23.2 which is incompatible.\n",
            "ipython-sql 0.5.0 requires sqlalchemy>=2.0, but you have sqlalchemy 1.4.54 which is incompatible.\u001b[0m\u001b[31m\n",
            "\u001b[0mSuccessfully installed affine-2.4.0 basemap-1.4.1 basemap-data-1.3.2 basemap-data-hires-1.3.2 click-plugins-1.1.1 cligj-0.7.2 matplotlib-3.8.4 numpy-1.26.4 obspy-1.4.1 packaging-23.2 pyproj-3.6.1 rasterio-1.4.3 sqlalchemy-1.4.54\n"
          ]
        },
        {
          "output_type": "display_data",
          "data": {
            "application/vnd.colab-display-data+json": {
              "pip_warning": {
                "packages": [
                  "matplotlib",
                  "mpl_toolkits",
                  "signal"
                ]
              },
              "id": "82425584e0e845a08d4b79f94426da2c"
            }
          },
          "metadata": {}
        }
      ],
      "source": [
        "# set up colab environment - uncomment the next line if running in colab\n",
        "\n",
        "!pip install basemap obspy basemap-data-hires rasterio gdown"
      ]
    },
    {
      "cell_type": "code",
      "execution_count": null,
      "metadata": {
        "id": "qSWd-iP0jaaO"
      },
      "outputs": [],
      "source": [
        "#@title Run to activate retina display\n",
        "\n",
        "%config InlineBackend.figure_format = \"retina\"\n",
        "from matplotlib import rcParams\n",
        "\n",
        "rcParams[\"savefig.dpi\"] = 100\n",
        "rcParams[\"figure.dpi\"] = 100\n",
        "rcParams[\"font.size\"] = 10"
      ]
    },
    {
      "cell_type": "markdown",
      "metadata": {
        "id": "9Z70qin1Ffdt"
      },
      "source": [
        "---\n",
        "## Fetch station metadata from IRIS server\n",
        "\n",
        "First, we query the all stations available below 60° south from 2000 to now from the IRIS Data Management Center (https://ds.iris.edu/ds/nodes/dmc/). Most certainly that these retrieved stations are in Antarctica because it is the only landmark beyond 60° south."
      ]
    },
    {
      "cell_type": "code",
      "execution_count": null,
      "metadata": {
        "id": "c28eRnyqjaaP"
      },
      "outputs": [],
      "source": [
        "from obspy import UTCDateTime\n",
        "from obspy.clients.fdsn import Client\n",
        "\n",
        "## Client connected to the IRIS Data Management Center\n",
        "iris = Client(\"IRIS\")\n",
        "\n",
        "## Get all stations south of 60 degrees latitude\n",
        "inv = iris.get_stations(minlatitude=-90, maxlatitude=-60, minlongitude=-180, maxlongitude=180, starttime=UTCDateTime(2000,1,1))\n",
        "\n",
        "## For convenience, you can also use the virtual network code \"_ANTARCTICA\" to get all stations in the Antarctic virtual network.\n",
        "# inv = iris.get_stations(network=\"_ANTARCTICA\", starttime=UTCDateTime(2000,1,1))\n",
        "\n",
        "## Print the%config matplotlib.inline = 'retina' inventory to check the contents\n",
        "for net in inv:\n",
        "    print (f\"{net.code} | {net.start_date.date} to {'present' if net.end_date is None  else net.end_date.date}: {net.description}\")"
      ]
    },
    {
      "cell_type": "markdown",
      "metadata": {
        "id": "6Ryma9o5jaaQ"
      },
      "source": [
        "---\n",
        "## Plot Antarctica map with the high latitude stereographic projection\n",
        "\n",
        "Stereographic [projection](https://matplotlib.org/basemap/stable/users/stere.html) is a conformal projection which is suitable for regional map at high latitudes. Polar steoreographic [projections](https://matplotlib.org/basemap/stable/users/pstere.html), including north pole and south pole stereoprojections are convenient way to plot maps of the polar regions."
      ]
    },
    {
      "cell_type": "code",
      "execution_count": null,
      "metadata": {
        "id": "ikwZYM1mjaaR"
      },
      "outputs": [],
      "source": [
        "# import a general plotting library\n",
        "import matplotlib.pyplot as plt\n",
        "# import basemap toolkit for geographic plotting\n",
        "from mpl_toolkits.basemap import Basemap\n",
        "\n",
        "## Create a map of the Antarctic region at low resolution.\n",
        "# The resolution can be set to 'c' for crude, 'i' for intermediate, 'h' for high resolution\n",
        "# If an error with 'i' or 'h', you probably need to install `pip install geographiclib`\n",
        "m = Basemap(projection='spstere', boundinglat=-65, lon_0=180, resolution='l')\n",
        "\n",
        "## Draw the Antarctic coastline, whose level of details depends on the resolution parameter above.\n",
        "m.drawcoastlines()\n",
        "\n",
        "## Draw the latitude and longitude grid\n",
        "# m.drawparallels(range(-90, -60, 5), labels=[0,0,0,0], maxlat=-89) # Draw the latitude grid every 5 degrees\n",
        "# m.drawmeridians(range(-180, 180, 30), labels=[0,0,0,0], maxlat=-89) # Draw the longitude grid every 30 degrees\n",
        "\n",
        "## Plot the location of the stations in the inventory\n",
        "# To do this, first we need to collect the latitude and longitude of all stations into two lists\n",
        "stlo = []\n",
        "stla = []\n",
        "for net in inv:\n",
        "    for sta in net:\n",
        "        stlo.append(sta.longitude)\n",
        "        stla.append(sta.latitude)\n",
        "# Then we plot the stations on the map using the plot() function with `latlon=True` to indicate that the coordinates are in latitude and longitude\n",
        "m.plot(stlo, stla, 'bv', latlon=True, mec='k', mew=0.2) # 'bv' means blue color, triangle shape\n",
        "\n",
        "## Show the map\n",
        "plt.show()"
      ]
    },
    {
      "cell_type": "markdown",
      "metadata": {
        "id": "kzB3xu0LjaaS"
      },
      "source": [
        "Now, we want to make the map more informative by denoting significant networks with markers of different shapes and colors."
      ]
    },
    {
      "cell_type": "code",
      "execution_count": null,
      "metadata": {
        "id": "NdPB5s_sjaaS"
      },
      "outputs": [],
      "source": [
        "## Define a tuple of major networks' abbreviations\n",
        "networks = [\n",
        "    'TAMSEIS', # A Broadband Seismic Investigation of Deep Continental Structure Across the East-West Antarctic Boundary\n",
        "    'GAMSEIS', # A Broadband Seismic Experiment to Image the Lithosphere beneath the Gamburtsev Mountains, East Antarctica\n",
        "    'TAMNNET', # Transantarctic Mountains Northern Network\n",
        "    'POLENET', #IPY POLENET-Antarctica: Investigating links between geodynamics and ice sheets\n",
        "    'UKANET', # UKANET: UK Antarctic Network\n",
        "    'RIS' # Collaborative Research: Collaborative Research: Dynamic Response of the Ross Ice Shelf to Ocean Waves and Structure and Dynamics of the Ross Sea from a Passive Seismic Deployment on the Ross Ice Shelf (Ross Ice Shelf (RIS))\n",
        "]\n",
        "\n",
        "markers = ['bv', 'g^', 'ro', 'cs', 'mD', 'yP']\n",
        "\n",
        "## Create a map of the Antarctic region at low resolution.\n",
        "m = Basemap(projection='spstere', boundinglat=-60, lon_0=180, resolution='l')\n",
        "## Draw the Antarctic coastline, whose level of details depends on the resolution parameter above.\n",
        "m.drawcoastlines()\n",
        "## Plot the location of the stations in the inventory\n",
        "for net in inv:\n",
        "    # Collect station geographical coordinates\n",
        "    stla = [sta.latitude for sta in net]\n",
        "    stlo = [sta.longitude for sta in net]\n",
        "    # Check if the network is in the list of major networks\n",
        "    for ii, network in enumerate(networks):\n",
        "        if f\"({network})\" in net.description:\n",
        "            m.plot(stlo, stla, markers[ii], latlon=True, mec='k', mew=0.2,\n",
        "                    label=f\"{network} ({net.start_date.year}$-${net.end_date.year})\")\n",
        "            break\n",
        "        # else:\n",
        "        #     m.plot(stlo, stla, 'o', c='gray', latlon=True, mec='k', mew=0.2, label=\"Other Networks\")\n",
        "## Add a legend outside the plot area\n",
        "handles, labels = plt.gca().get_legend_handles_labels()\n",
        "by_label = dict(zip(labels, handles))\n",
        "plt.legend(by_label.values(), by_label.keys(), loc='upper right', fontsize='x-small')\n",
        "\n",
        "## Show the map\n",
        "plt.show()"
      ]
    },
    {
      "cell_type": "markdown",
      "metadata": {
        "id": "bjQps2GNjaaT"
      },
      "source": [
        "---\n",
        "## Map with custom background"
      ]
    },
    {
      "cell_type": "markdown",
      "metadata": {
        "id": "2i85trU1jaaT"
      },
      "source": [
        "So far, we have been ploting locations of seismic stations or earthquakes on a map. Here, we will look at ways to plot gridded data as the map background.\n",
        "\n",
        "In preparation for the plot, we download an open dataset of ice thickness in Antarctica."
      ]
    },
    {
      "cell_type": "code",
      "execution_count": null,
      "metadata": {
        "id": "hPb4R6-rjaaT"
      },
      "outputs": [],
      "source": [
        "import gdown, zipfile\n",
        "from pathlib import Path\n",
        "## Download the Bedmap2 datasets in GeoTIFF format from Google Drive using gdown\n",
        "url = \"https://drive.google.com/uc?id=1ATA4rtPqOGxThPpw-DoOP6BeIRXpKzRo\"\n",
        "if not Path('bedmap2_datasets.zip').exists():\n",
        "    gdown.download(url, 'bedmap2_datasets.zip', quiet=False)\n",
        "## Unzip the downloaded file\n",
        "if not Path('bedmap2_datasets').exists():\n",
        "    with zipfile.ZipFile('bedmap2_datasets.zip', 'r') as f:\n",
        "        f.extractall('.')"
      ]
    },
    {
      "cell_type": "markdown",
      "metadata": {
        "id": "betjm86KjaaT"
      },
      "source": [
        "    Each dataset is projected in Antarctic Polar Stereographic projection, latitude of true scale -71 degrees south, datum WGS84.\n",
        "    All heights are in metres relative to sea level as defined by the g104c geoid.\n",
        "\n",
        "    The grid dimensions are 6667 x 6667 cells and the extent is:\n",
        "    Top: 3333500\n",
        "    Left: -3333500\n",
        "    Right: 3333500\n",
        "    Bottom: -3333500\n",
        "\n",
        "    The bedmap2 grid spacing is 1000 m.\n",
        "\n",
        "The following function read geoscientific data in geotiff format into numpy array. `lon` and `lat` matrices have each pixel cooridnates of the entire dataset."
      ]
    },
    {
      "cell_type": "code",
      "execution_count": null,
      "metadata": {
        "id": "RjXr0g7SjaaU"
      },
      "outputs": [],
      "source": [
        "import numpy as np\n",
        "\n",
        "def read_tiff_data(fname, with_coordinates=False, decimate=4):\n",
        "    '''\n",
        "    Read a GeoTIFF file and return the data as a numpy array.\n",
        "    If with_coordinates is True, return the coordinates as well.\n",
        "    '''\n",
        "    # check if the file exists\n",
        "    import rasterio\n",
        "    with rasterio.open(fname) as src: # open the tiff file\n",
        "        # read the actual data from tiff file\n",
        "        img_data = src.read(1).astype(np.float32)[::decimate, ::decimate] # read the first band of the tiff file\n",
        "        # set the no data value to NaN\n",
        "        img_data[img_data == src.nodata] = np.nan\n",
        "        if not with_coordinates: return img_data\n",
        "        # coordinate converter\n",
        "        from pyproj import Proj\n",
        "        proj = Proj(src.crs)\n",
        "        # create a grid of pixel coordinates in the original projection\n",
        "        x = np.linspace(src.bounds.left, src.bounds.right, src.shape[0], dtype=np.float32)[::decimate]\n",
        "        y = np.linspace(src.bounds.top, src.bounds.bottom, src.shape[1], dtype=np.float32)[::decimate]\n",
        "        # convert pixel coordinates to WGS84 lat/lon coordinates\n",
        "        lon, lat = proj(*np.meshgrid(x, y), inverse=True)\n",
        "        return lon, lat, img_data"
      ]
    },
    {
      "cell_type": "markdown",
      "metadata": {
        "id": "iLf6XzUAjaaU"
      },
      "source": [
        "We now read the surface elevation of Antarctic ice sheet from Bedmap2 dataset and plot it as map background."
      ]
    },
    {
      "cell_type": "code",
      "execution_count": null,
      "metadata": {
        "id": "TzY4SjOdjaaU"
      },
      "outputs": [],
      "source": [
        "## Read the Bedmap2 surface elevation data\n",
        "fig, ax = plt.subplots()\n",
        "lon, lat, img_data = read_tiff_data('bedmap2_datasets/bedmap2_surface.tif', with_coordinates=True)\n",
        "## Create a map of the Antarctic region at low resolution.\n",
        "m = Basemap(projection='spstere', boundinglat=-60, lon_0=180, resolution='c')\n",
        "## Plot the Bedmap2 surface elevation data\n",
        "mapple = m.pcolormesh(lon, lat, img_data, vmin=0, vmax=4500, cmap='cividis', latlon=True)\n",
        "## Add a colorbar as figure inset\n",
        "cax = ax.inset_axes([0.07, 0.9, 0.4, 0.03]) # [left, bottom, width, height]\n",
        "cbar = fig.colorbar(mapple, cax=cax, orientation='horizontal')\n",
        "cbar.set_label('Surface elevation (m)')\n",
        "\n",
        "## Plot the location of the stations in the inventory\n",
        "for net in inv:\n",
        "    # Collect station geographical coordinates\n",
        "    stla = [sta.latitude for sta in net]\n",
        "    stlo = [sta.longitude for sta in net]\n",
        "    # Check if the network is in the list of major networks\n",
        "    for ii, network in enumerate(networks):\n",
        "        if f\"({network})\" in net.description:\n",
        "            m.plot(stlo, stla, markers[ii], latlon=True, mec='k', mew=0.2,\n",
        "                    label=f\"{network} ({net.start_date.year}$-${net.end_date.year})\")\n",
        "            break\n",
        "## Add a legend outside the plot area\n",
        "handles, labels = plt.gca().get_legend_handles_labels()\n",
        "by_label = dict(zip(labels, handles))\n",
        "plt.legend(by_label.values(), by_label.keys(), loc='lower left', fontsize='x-small')\n",
        "\n",
        "## Show the map\n",
        "plt.show()"
      ]
    },
    {
      "cell_type": "markdown",
      "metadata": {
        "id": "eLlRx2XpjaaU"
      },
      "source": [
        "---\n",
        "## Multiple panels maps\n",
        "\n",
        "The previous maps have been plotted on dividual figures, however, they can be merged together to create a multi-panel figure, often used in publication."
      ]
    },
    {
      "cell_type": "code",
      "execution_count": null,
      "metadata": {
        "id": "2RjZwPBHjaaV"
      },
      "outputs": [],
      "source": [
        "fig, ax = plt.subplots(2, 2, figsize=(8, 8), sharex=True, sharey=True)\n",
        "\n",
        "## Read the Bedmap2 surface elevation data\n",
        "lon, lat, img_data = read_tiff_data('bedmap2_datasets/bedmap2_surface.tif', with_coordinates=True)\n",
        "## Create a map of the Antarctic region at low resolution, `ax[0, 0]` is insisted to hold the first plot\n",
        "m = Basemap(projection='spstere', boundinglat=-60, lon_0=180, resolution='c', ax=ax[0, 0])\n",
        "## Plot the Bedmap2 surface elevation data\n",
        "mapple = m.pcolormesh(lon, lat, img_data, cmap='cividis', latlon=True)\n",
        "## Add a colorbar as figure inset\n",
        "cax = ax[0, 0].inset_axes([0.07, 0.9, 0.4, 0.03]) # [left, bottom, width, height]\n",
        "cbar = fig.colorbar(mapple, cax=cax, orientation='horizontal')\n",
        "cbar.set_label('Surface elevation (m)')\n",
        "\n",
        "## Read the Bedmap2 ice thickness data\n",
        "img_data = read_tiff_data('bedmap2_datasets/bedmap2_thickness.tif', with_coordinates=False)\n",
        "## Create a map of the Antarctic region at low resolution, `ax[0, 1]` is insisted to hold the second plot\n",
        "m = Basemap(projection='spstere', boundinglat=-60, lon_0=180, resolution='c', ax=ax[0, 1])\n",
        "## Plot the Bedmap2 ice thickness data\n",
        "mapple = m.pcolormesh(lon, lat, img_data, cmap='copper', latlon=True)\n",
        "## Add a colorbar as figure inset\n",
        "cax = ax[0, 1].inset_axes([0.07, 0.9, 0.4, 0.03]) # [left, bottom, width, height]\n",
        "cbar = fig.colorbar(mapple, cax=cax, orientation='horizontal')\n",
        "cbar.set_label('Ice thickness (m)')\n",
        "\n",
        "## Read the Bedmap2 bed elevation data\n",
        "img_data = read_tiff_data('bedmap2_datasets/bedmap2_bed.tif', with_coordinates=False)\n",
        "## Create a map of the Antarctic region at low resolution, `ax[1, 0]` is insisted to hold the third plot\n",
        "m = Basemap(projection='spstere', boundinglat=-60, lon_0=180, resolution='l', ax=ax[1, 0])\n",
        "## Plot the Bedmap2 bed elevation data\n",
        "mapple = m.pcolormesh(lon, lat, img_data, cmap='viridis', latlon=True)\n",
        "m.drawcoastlines()\n",
        "## Add a colorbar as figure inset\n",
        "cax = ax[1, 0].inset_axes([0.07, 0.9, 0.4, 0.03]) # [left, bottom, width, height]\n",
        "cbar = fig.colorbar(mapple, cax=cax, orientation='horizontal')\n",
        "cbar.set_label('Bed elevation (m)')\n",
        "\n",
        "## Plot the location of the stations in the inventory\n",
        "m = Basemap(projection='spstere', boundinglat=-60, lon_0=180, resolution='l', ax=ax[1, 1])\n",
        "m.drawcoastlines()\n",
        "for net in inv:\n",
        "    # Collect station geographical coordinates\n",
        "    stla = [sta.latitude for sta in net]\n",
        "    stlo = [sta.longitude for sta in net]\n",
        "    # Check if the network is in the list of major networks\n",
        "    for ii, network in enumerate(networks):\n",
        "        if f\"({network})\" in net.description:\n",
        "            m.plot(stlo, stla, markers[ii], latlon=True, mec='k', mew=0.2,\n",
        "                    label=f\"{network} ({net.start_date.year}$-${net.end_date.year})\")\n",
        "            break\n",
        "## Add a legend outside the plot area\n",
        "handles, labels = plt.gca().get_legend_handles_labels()\n",
        "by_label = dict(zip(labels, handles))\n",
        "plt.legend(by_label.values(), by_label.keys(), loc='lower left', fontsize='x-small')\n",
        "\n",
        "## Set the title for each subplot\n",
        "ax[0, 0].set_title('Surface elevation')\n",
        "ax[0, 1].set_title('Ice thickness')\n",
        "ax[1, 0].set_title('Bed elevation')\n",
        "ax[1, 1].set_title('Station locations')\n",
        "\n",
        "fig.tight_layout()\n",
        "plt.show()"
      ]
    },
    {
      "cell_type": "markdown",
      "metadata": {
        "id": "fpx20AUQjaaV"
      },
      "source": [
        "---\n",
        "## Suggestion for more activity\n",
        "If you have completed all exersises and still feeling unstatisfied, why not experimenting with different colormaps from the matplotlib [library](https://matplotlib.org/stable/users/explain/colors/colormaps.html) for each sub-panel.\n",
        "\n",
        "If you still have more time, let's write a piece of code to get the pixeled ice thickness, surface and bedrock elevation for a given (lon, lat) coordinates. This will become handy when we proceed to Module 4."
      ]
    },
    {
      "cell_type": "markdown",
      "metadata": {
        "id": "gKNoohLhjaaV"
      },
      "source": [
        "---\n",
        "## Conclusions\n",
        "- If you have reached to this point, I hope you have strengthened your skills in making digital maps and visualise scientific data.\n",
        "\n",
        "- I hope by mastering the data visualization skills, you will be more comfortable working with real data in future."
      ]
    }
  ],
  "metadata": {
    "colab": {
      "provenance": []
    },
    "kernelspec": {
      "display_name": "emcee",
      "language": "python",
      "name": "python3"
    },
    "language_info": {
      "codemirror_mode": {
        "name": "ipython",
        "version": 3
      },
      "file_extension": ".py",
      "mimetype": "text/x-python",
      "name": "python",
      "nbconvert_exporter": "python",
      "pygments_lexer": "ipython3",
      "version": "3.11.7"
    }
  },
  "nbformat": 4,
  "nbformat_minor": 0
}